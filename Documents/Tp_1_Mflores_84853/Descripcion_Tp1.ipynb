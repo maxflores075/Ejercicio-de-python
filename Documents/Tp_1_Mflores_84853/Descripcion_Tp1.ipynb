{
 "cells": [
  {
   "cell_type": "markdown",
   "id": "138598db-abe6-4fc8-b71e-1e8c0c8c8a24",
   "metadata": {
    "tags": []
   },
   "source": [
    "\n",
    "# Descripción Tp_1\n"
   ]
  },
  {
   "cell_type": "markdown",
   "id": "322b2cf1-9f24-4914-b32e-a05afb1305a2",
   "metadata": {},
   "source": [
    "\n",
    "En el primer TP se utilizarán dos datasets para abordar respectivamente un problema de clasificación (inferir clases discretas) y un problema de regresión (inferir valores continuos). Los datasets a utilizar serán:\n",
    "\n",
    "Dataset Yeast (https://archive.ics.uci.edu/ml/datasets/Yeast): es un dataset para construir un predictor de sitios específicos de anclaje de proteínas de levaduras basado en información de las secuencias de aminoácidos que forman a la proteína (problema de clasificación multiclase).\n",
    "Physicochemical Properties of Protein Tertiary Structure Data Set (https://archive.ics.uci.edu/ml/datasets/Physicochemical+Properties+of+Protein+Tertiary+Structure): es un dataset para construir un predictor del tamaño de residuos de proteínas en términos de características físico-químicas de las mismas (problema de regresión).\n",
    "\n",
    "\n",
    "Inicialmente se requiere hacer un análisis exploratorio de datos (EDA) para ganar conocimiento de la estadística de los datos y relaciones elementales entre ellos. Para ello se requiere hacer: Explorar el balance de clases (para el problema multiclase), correlaciones de a pares de las variables e histogramas, discriminando por clase (para el problema multiclase).\n",
    "\n",
    "Para hacer el EDA se recomienda el uso de la librería de Python Pandas para manipular y estructurar los datos y las librerías de Matplotlib y/o Seaborn para hacer la visualización.\n",
    "\n",
    "Mediante la librería scikit-learn de Python aplicar los modelos vistos en clase para desarollar un clasificador multiclase y un modelo de regresión.\n",
    "\n",
    "Entregar una notebook de python con todo el desarrollo del EDA y del/los modelo/s de clasificación y regresión. Evaluar métricas de micro-macro F1-score para clasificación y MSE para regresión. La entrega debe ser subiendo el notebook de Jupyter o notebook de Google Colab a una cuenta de Github y notificar la entrega.\n",
    "\n",
    "En el caso del problema de clasificación, resolver un problema multiclase con al menos 3 clases. Pueden seleccionarse por ejemplo las tres clases más significativas. Además, a partir del dataset original, armar un dataset para resolver un problema de clasificación binario. Para ello se pueden unificar clases con algún criterio que lo justifique o tomar las dos clases más representativas. Entrenar un modelo para resolver este nuevo problema binario y evaluar las métricas AUC-ROC.\n",
    "\n",
    "En el caso del problema de regresión, hacer ingeniería de features generando features polinomiales y evaluar con un conjunto de validación cuál es la mejor elección de features polinomiales.\n",
    "\n",
    "Opcionalmente se pueden ensayar modelos de redes neuronales de perceptrón multicapa (MLP)."
   ]
  },
  {
   "cell_type": "code",
   "execution_count": null,
   "id": "f0940aa2-b714-4bcd-9619-d79013114318",
   "metadata": {},
   "outputs": [],
   "source": []
  }
 ],
 "metadata": {
  "kernelspec": {
   "display_name": "Python 3 (ipykernel)",
   "language": "python",
   "name": "python3"
  },
  "language_info": {
   "codemirror_mode": {
    "name": "ipython",
    "version": 3
   },
   "file_extension": ".py",
   "mimetype": "text/x-python",
   "name": "python",
   "nbconvert_exporter": "python",
   "pygments_lexer": "ipython3",
   "version": "3.10.4"
  }
 },
 "nbformat": 4,
 "nbformat_minor": 5
}
